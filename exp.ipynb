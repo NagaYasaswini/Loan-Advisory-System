{
 "cells": [
  {
   "cell_type": "code",
   "execution_count": 2,
   "id": "242f5490",
   "metadata": {},
   "outputs": [
    {
     "name": "stdout",
     "output_type": "stream",
     "text": [
      "c:\\Users\\GarvikaRajawat\\Desktop\\Yashu's Project\\Loan-Advisory-System\n"
     ]
    }
   ],
   "source": [
    "!cd"
   ]
  },
  {
   "cell_type": "code",
   "execution_count": 1,
   "id": "286f6a5f",
   "metadata": {},
   "outputs": [
    {
     "name": "stderr",
     "output_type": "stream",
     "text": [
      "ERROR: pip's dependency resolver does not currently take into account all the packages that are installed. This behaviour is the source of the following dependency conflicts.\n",
      "opentelemetry-exporter-otlp-proto-http 1.36.0 requires opentelemetry-exporter-otlp-proto-common==1.36.0, but you have opentelemetry-exporter-otlp-proto-common 1.37.0 which is incompatible.\n",
      "opentelemetry-exporter-otlp-proto-http 1.36.0 requires opentelemetry-proto==1.36.0, but you have opentelemetry-proto 1.37.0 which is incompatible.\n",
      "opentelemetry-exporter-otlp-proto-http 1.36.0 requires opentelemetry-sdk~=1.36.0, but you have opentelemetry-sdk 1.37.0 which is incompatible.\n",
      "opentelemetry-instrumentation 0.57b0 requires opentelemetry-semantic-conventions==0.57b0, but you have opentelemetry-semantic-conventions 0.58b0 which is incompatible.\n"
     ]
    }
   ],
   "source": [
    "!pip install -q streamlit pandas python-dotenv langchain langchain-google-genai chromadb pytesseract pillow pypdf\n"
   ]
  },
  {
   "cell_type": "code",
   "execution_count": 7,
   "id": "683b28ef",
   "metadata": {},
   "outputs": [],
   "source": [
    "!pip install -U sentence-transformers -q"
   ]
  },
  {
   "cell_type": "code",
   "execution_count": 3,
   "id": "5555673d",
   "metadata": {},
   "outputs": [
    {
     "name": "stderr",
     "output_type": "stream",
     "text": [
      "ERROR: pip's dependency resolver does not currently take into account all the packages that are installed. This behaviour is the source of the following dependency conflicts.\n",
      "opentelemetry-exporter-otlp-proto-http 1.36.0 requires opentelemetry-exporter-otlp-proto-common==1.36.0, but you have opentelemetry-exporter-otlp-proto-common 1.37.0 which is incompatible.\n",
      "opentelemetry-exporter-otlp-proto-http 1.36.0 requires opentelemetry-proto==1.36.0, but you have opentelemetry-proto 1.37.0 which is incompatible.\n",
      "opentelemetry-exporter-otlp-proto-http 1.36.0 requires opentelemetry-sdk~=1.36.0, but you have opentelemetry-sdk 1.37.0 which is incompatible.\n"
     ]
    }
   ],
   "source": [
    "!pip install -U langchain-community -q\n"
   ]
  },
  {
   "cell_type": "code",
   "execution_count": 32,
   "id": "944258fa",
   "metadata": {},
   "outputs": [],
   "source": [
    "import streamlit as st\n",
    "import pandas as pd\n",
    "import os\n",
    "from dotenv import load_dotenv\n",
    "import sys\n",
    "from langchain.vectorstores import Chroma\n",
    "from langchain_google_genai import GoogleGenerativeAIEmbeddings\n",
    "from langchain.chains import RetrievalQA\n",
    "from langchain_google_genai import ChatGoogleGenerativeAI\n",
    "from langchain.document_loaders import PyPDFLoader, TextLoader, CSVLoader\n",
    "from langchain.text_splitter import RecursiveCharacterTextSplitter, MarkdownHeaderTextSplitter\n",
    "import pytesseract\n",
    "from PIL import Image\n",
    "from langchain_community.embeddings import JinaEmbeddings\n",
    "\n"
   ]
  },
  {
   "cell_type": "code",
   "execution_count": 33,
   "id": "f19a6cbf",
   "metadata": {},
   "outputs": [],
   "source": [
    "# Load environment variables\n",
    "load_dotenv()\n",
    "GEMINI_API_KEY = os.getenv(\"GEMINI_API_KEY\")\n",
    "if not GEMINI_API_KEY:\n",
    "    raise ValueError(\"GEMINI_API_KEY not found in environment variables. Please check your .env file.\")\n"
   ]
  },
  {
   "cell_type": "code",
   "execution_count": 10,
   "id": "158ef721",
   "metadata": {},
   "outputs": [
    {
     "data": {
      "text/plain": [
       "[Document(metadata={'Header 1': 'Loan Advisory Policy'}, page_content='# Loan Advisory Policy'),\n",
       " Document(metadata={'Header 1': 'Purpose'}, page_content='# Purpose\\nThis policy outlines the principles, standards, and procedures that guide the provision of loan advisory services.\\nIt ensures clients receive transparent, ethical, and compliant advice tailored to their financial needs.'),\n",
       " Document(metadata={'Header 1': 'Scope'}, page_content='# Scope\\nThis policy applies to all employees, contractors, and representatives involved in providing loan advisory services.\\nIt covers all client engagements, loan products, and advisory-related communications.'),\n",
       " Document(metadata={'Header 1': 'Definitions'}, page_content='# Definitions\\n- **Loan Advisory**: Professional guidance provided to clients regarding loan products, terms, and obligations.\\n- **Client**: Any individual or entity seeking loan advisory services.\\n- **Adviser**: Authorized staff member responsible for providing guidance.'),\n",
       " Document(metadata={'Header 1': 'Eligibility Criteria'}, page_content='# Eligibility Criteria\\nClients must:\\n- Be at least 18 years of age (individuals).\\n- Provide valid identification documents.\\n- Demonstrate a legitimate financial need for loan products.\\n- Consent to creditworthiness evaluation where required.'),\n",
       " Document(metadata={'Header 1': 'Advisory Process'}, page_content='# Advisory Process\\n1. Initial consultation to understand client requirements.\\n2. Assessment of financial profile and loan eligibility.\\n3. Presentation of suitable loan options with pros and cons.\\n4. Disclosure of risks, obligations, and repayment terms.\\n5. Documentation and formal advisory report provided to client.'),\n",
       " Document(metadata={'Header 1': 'Risk Assessment Guidelines'}, page_content='# Risk Assessment Guidelines\\n- Perform a credit history and affordability analysis.\\n- Evaluate repayment capacity based on income and expenses.\\n- Identify high-risk clients and recommend safeguards.\\n- Ensure advice aligns with responsible lending practices.'),\n",
       " Document(metadata={'Header 1': 'Compliance and Regulatory Standards'}, page_content='# Compliance and Regulatory Standards\\n- Adhere to applicable banking and financial regulations.\\n- Follow anti-money laundering (AML) and know-your-customer (KYC) rules.\\n- Ensure transparency in disclosures and avoid misleading advice.'),\n",
       " Document(metadata={'Header 1': 'Data Privacy and Confidentiality'}, page_content='# Data Privacy and Confidentiality\\n- Collect only necessary client data.\\n- Store information securely in compliance with data protection laws (e.g., GDPR).\\n- Share client data only with authorized parties and with consent.'),\n",
       " Document(metadata={'Header 1': 'Roles and Responsibilities'}, page_content='# Roles and Responsibilities\\n- **Advisers**: Provide accurate, unbiased, and ethical advice.\\n- **Compliance Officer**: Monitor adherence to this policy.\\n- **Management**: Ensure proper training and oversight.'),\n",
       " Document(metadata={'Header 1': 'Client Obligations'}, page_content='# Client Obligations\\n- Provide accurate and truthful financial information.\\n- Cooperate in the advisory and risk assessment process.\\n- Comply with contractual loan obligations.'),\n",
       " Document(metadata={'Header 1': 'Conflict of Interest Management'}, page_content='# Conflict of Interest Management\\n- Disclose any potential conflicts before offering advice.\\n- Prohibit acceptance of incentives that may bias recommendations.\\n- Maintain independence and objectivity.'),\n",
       " Document(metadata={'Header 1': 'Documentation and Record Keeping'}, page_content='# Documentation and Record Keeping\\n- Maintain records of all client interactions for at least 7 years.\\n- Store advisory reports securely and ensure audit readiness.'),\n",
       " Document(metadata={'Header 1': 'Fee Structure and Compensation'}, page_content='# Fee Structure and Compensation\\n- Clearly disclose all advisory fees upfront.\\n- Ensure fees are reasonable and not linked to loan approval outcomes.\\n- Provide clients with receipts for all payments.'),\n",
       " Document(metadata={'Header 1': 'Review and Monitoring'}, page_content='# Review and Monitoring\\n- Conduct periodic audits of advisory practices.\\n- Review client feedback and implement improvements.'),\n",
       " Document(metadata={'Header 1': 'Policy Exceptions'}, page_content='# Policy Exceptions\\n- Any deviation from this policy must be approved by senior management and documented.'),\n",
       " Document(metadata={'Header 1': 'Policy Review and Updates'}, page_content='# Policy Review and Updates\\n- This policy will be reviewed annually or when regulatory changes occur.\\n- Updates will be communicated to all staff and stakeholders.')]"
      ]
     },
     "execution_count": 10,
     "metadata": {},
     "output_type": "execute_result"
    }
   ],
   "source": [
    "with open(\"Knowledge-base/Policy_doc.md\", \"r\", encoding=\"utf-8\") as file:\n",
    "    markdown_document = file.read() \n",
    "\n",
    "headers_to_split_on = [\n",
    "    (\"#\", \"Header 1\"),\n",
    "    # (\"##\", \"Header 2\"),\n",
    "    # (\"###\", \"Header 3\"),\n",
    "]\n",
    "\n",
    "markdown_splitter = MarkdownHeaderTextSplitter(headers_to_split_on, strip_headers = False)\n",
    "md_header_splits = markdown_splitter.split_text(markdown_document)\n",
    "md_header_splits"
   ]
  },
  {
   "cell_type": "code",
   "execution_count": null,
   "id": "b78fd3b3",
   "metadata": {},
   "outputs": [],
   "source": [
    "!pip install -U langchain_ollama"
   ]
  },
  {
   "cell_type": "code",
   "execution_count": 37,
   "id": "6fc3a550",
   "metadata": {},
   "outputs": [
    {
     "name": "stdout",
     "output_type": "stream",
     "text": [
      "jina_ad21598f6a354596ad805fde515f4efakP4__wM07ACl1zx33NujW6eg8dYh\n"
     ]
    }
   ],
   "source": [
    "print(os.getenv(\"JINA_API_KEY\"))"
   ]
  },
  {
   "cell_type": "code",
   "execution_count": 39,
   "id": "78621836",
   "metadata": {},
   "outputs": [],
   "source": [
    "# from langchain_ollama import OllamaEmbeddings\n",
    "\n",
    "# embeddings = OllamaEmbeddings(model=\"llama3\")\n",
    "# embeddings = GoogleGenerativeAIEmbeddings(\n",
    "#     model=\"models/embedding-001\", google_api_key=GEMINI_API_KEY\n",
    "# )\n",
    "embeddings = JinaEmbeddings(jina_api_key=os.getenv(\"JINA_API_KEY\"), model_name=\"jina-embeddings-v3\")"
   ]
  },
  {
   "cell_type": "code",
   "execution_count": 17,
   "id": "d62226d2",
   "metadata": {},
   "outputs": [
    {
     "data": {
      "text/plain": [
       "'# Loan Advisory Policy'"
      ]
     },
     "execution_count": 17,
     "metadata": {},
     "output_type": "execute_result"
    }
   ],
   "source": [
    "md_header_splits[0].page_content"
   ]
  },
  {
   "cell_type": "code",
   "execution_count": 18,
   "id": "b08b155b",
   "metadata": {},
   "outputs": [],
   "source": [
    "sentences = []\n",
    "for i in range(len(md_header_splits)):\n",
    "    sentences.append(md_header_splits[i].page_content)"
   ]
  },
  {
   "cell_type": "code",
   "execution_count": 40,
   "id": "53553d28",
   "metadata": {},
   "outputs": [
    {
     "name": "stderr",
     "output_type": "stream",
     "text": [
      "C:\\Users\\GarvikaRajawat\\AppData\\Local\\Temp\\ipykernel_20228\\1748713543.py:4: LangChainDeprecationWarning: Since Chroma 0.4.x the manual persistence method is no longer supported as docs are automatically persisted.\n",
      "  vectorstore.persist()\n"
     ]
    }
   ],
   "source": [
    "vectorstore = Chroma.from_documents(\n",
    "    md_header_splits, embeddings, persist_directory=\"./chroma_db\"\n",
    ")\n",
    "vectorstore.persist()"
   ]
  },
  {
   "cell_type": "code",
   "execution_count": 47,
   "id": "c48229a1",
   "metadata": {},
   "outputs": [],
   "source": [
    "llm = ChatGoogleGenerativeAI(\n",
    "    model=\"gemini-flash-lite-latest\", google_api_key=GEMINI_API_KEY, temperature=0.7\n",
    ")"
   ]
  },
  {
   "cell_type": "code",
   "execution_count": 49,
   "id": "b5003b90",
   "metadata": {},
   "outputs": [
    {
     "name": "stdout",
     "output_type": "stream",
     "text": [
      "The Loan Advisory Policy mentions an \"Assessment of financial profile and loan eligibility\" as part of the Advisory Process, but it does not explicitly detail the specific eligibility criteria themselves.\n"
     ]
    }
   ],
   "source": [
    "qa_chain = RetrievalQA.from_chain_type(\n",
    "    llm=llm,\n",
    "    retriever=vectorstore.as_retriever(search_kwargs={\"k\": 5})\n",
    ")\n",
    "query = \"What are the eligibility criteria in the Loan Advisory Policy?\"\n",
    "response = qa_chain.invoke({\"query\": query})\n",
    "print(response[\"result\"])"
   ]
  },
  {
   "cell_type": "code",
   "execution_count": 50,
   "id": "fe7a93fd",
   "metadata": {},
   "outputs": [
    {
     "name": "stderr",
     "output_type": "stream",
     "text": [
      "2025-09-27 23:26:51.747 WARNING streamlit.runtime.scriptrunner_utils.script_run_context: Thread 'MainThread': missing ScriptRunContext! This warning can be ignored when running in bare mode.\n",
      "2025-09-27 23:26:51.749 WARNING streamlit.runtime.scriptrunner_utils.script_run_context: Thread 'MainThread': missing ScriptRunContext! This warning can be ignored when running in bare mode.\n",
      "2025-09-27 23:26:51.861 \n",
      "  \u001b[33m\u001b[1mWarning:\u001b[0m to view this Streamlit app on a browser, run it with the following\n",
      "  command:\n",
      "\n",
      "    streamlit run c:\\Users\\GarvikaRajawat\\Desktop\\MCP\\.venv\\Lib\\site-packages\\ipykernel_launcher.py [ARGUMENTS]\n",
      "2025-09-27 23:26:51.861 Thread 'MainThread': missing ScriptRunContext! This warning can be ignored when running in bare mode.\n",
      "2025-09-27 23:26:51.861 Thread 'MainThread': missing ScriptRunContext! This warning can be ignored when running in bare mode.\n",
      "2025-09-27 23:26:51.870 Thread 'MainThread': missing ScriptRunContext! This warning can be ignored when running in bare mode.\n",
      "2025-09-27 23:26:51.871 Session state does not function when running a script without `streamlit run`\n",
      "2025-09-27 23:26:51.872 Thread 'MainThread': missing ScriptRunContext! This warning can be ignored when running in bare mode.\n",
      "2025-09-27 23:26:51.874 Thread 'MainThread': missing ScriptRunContext! This warning can be ignored when running in bare mode.\n"
     ]
    }
   ],
   "source": [
    "# streamlit_app.py\n",
    "import streamlit as st\n",
    "from langchain.vectorstores import Chroma\n",
    "from langchain.embeddings.openai import OpenAIEmbeddings\n",
    "from langchain.chat_models import ChatOpenAI\n",
    "from langchain.chains import RetrievalQA\n",
    "\n",
    "# -----------------------------\n",
    "# Streamlit UI Setup\n",
    "# -----------------------------\n",
    "st.set_page_config(page_title=\"RAG Chatbot\", page_icon=\"💬\", layout=\"centered\")\n",
    "st.title(\"💬 RAG Chatbot with ChromaDB\")\n",
    "\n",
    "# Initialize session state for chat history\n",
    "if \"messages\" not in st.session_state:\n",
    "    st.session_state.messages = []"
   ]
  },
  {
   "cell_type": "code",
   "execution_count": 51,
   "id": "eb65f0ff",
   "metadata": {},
   "outputs": [
    {
     "name": "stderr",
     "output_type": "stream",
     "text": [
      "2025-09-27 23:26:54.091 Thread 'MainThread': missing ScriptRunContext! This warning can be ignored when running in bare mode.\n",
      "2025-09-27 23:26:54.094 Thread 'MainThread': missing ScriptRunContext! This warning can be ignored when running in bare mode.\n",
      "2025-09-27 23:26:54.097 Thread 'MainThread': missing ScriptRunContext! This warning can be ignored when running in bare mode.\n",
      "2025-09-27 23:26:54.099 Thread 'MainThread': missing ScriptRunContext! This warning can be ignored when running in bare mode.\n",
      "2025-09-27 23:26:54.103 Thread 'MainThread': missing ScriptRunContext! This warning can be ignored when running in bare mode.\n",
      "2025-09-27 23:26:54.106 Thread 'MainThread': missing ScriptRunContext! This warning can be ignored when running in bare mode.\n",
      "2025-09-27 23:26:54.109 Thread 'MainThread': missing ScriptRunContext! This warning can be ignored when running in bare mode.\n",
      "2025-09-27 23:26:54.110 Thread 'MainThread': missing ScriptRunContext! This warning can be ignored when running in bare mode.\n",
      "2025-09-27 23:26:54.112 Thread 'MainThread': missing ScriptRunContext! This warning can be ignored when running in bare mode.\n",
      "2025-09-27 23:26:54.114 Thread 'MainThread': missing ScriptRunContext! This warning can be ignored when running in bare mode.\n",
      "2025-09-27 23:26:54.115 Thread 'MainThread': missing ScriptRunContext! This warning can be ignored when running in bare mode.\n",
      "2025-09-27 23:26:54.117 Thread 'MainThread': missing ScriptRunContext! This warning can be ignored when running in bare mode.\n",
      "2025-09-27 23:26:54.120 Thread 'MainThread': missing ScriptRunContext! This warning can be ignored when running in bare mode.\n",
      "2025-09-27 23:26:54.121 Thread 'MainThread': missing ScriptRunContext! This warning can be ignored when running in bare mode.\n",
      "2025-09-27 23:26:54.122 Thread 'MainThread': missing ScriptRunContext! This warning can be ignored when running in bare mode.\n",
      "2025-09-27 23:26:54.124 Thread 'MainThread': missing ScriptRunContext! This warning can be ignored when running in bare mode.\n"
     ]
    }
   ],
   "source": [
    "# -----------------------------\n",
    "# Chat Input\n",
    "# -----------------------------\n",
    "with st.form(\"chat_form\", clear_on_submit=True):\n",
    "    user_input = st.text_input(\"Ask me anything:\", \"\")\n",
    "    submit = st.form_submit_button(\"Send\")\n",
    "\n",
    "if submit and user_input:\n",
    "    # Add user message to chat history\n",
    "    st.session_state.messages.append({\"role\": \"user\", \"content\": user_input})\n",
    "\n",
    "    # Get response from RAG QA\n",
    "    with st.spinner(\"Thinking...\"):\n",
    "        result = qa_chain.run(user_input) #changes qa_chain \n",
    "    \n",
    "    # Add bot response to chat history\n",
    "    st.session_state.messages.append({\"role\": \"assistant\", \"content\": result})\n",
    "\n",
    "# -----------------------------\n",
    "# Display Chat History\n",
    "# -----------------------------\n",
    "for message in st.session_state.messages:\n",
    "    if message[\"role\"] == \"user\":\n",
    "        st.markdown(f\"**You:** {message['content']}\")\n",
    "    else:\n",
    "        st.markdown(f\"**Bot:** {message['content']}\")"
   ]
  }
 ],
 "metadata": {
  "kernelspec": {
   "display_name": ".venv",
   "language": "python",
   "name": "python3"
  },
  "language_info": {
   "codemirror_mode": {
    "name": "ipython",
    "version": 3
   },
   "file_extension": ".py",
   "mimetype": "text/x-python",
   "name": "python",
   "nbconvert_exporter": "python",
   "pygments_lexer": "ipython3",
   "version": "3.12.10"
  }
 },
 "nbformat": 4,
 "nbformat_minor": 5
}
