{
 "cells": [
  {
   "cell_type": "code",
   "execution_count": null,
   "id": "8ae30bde",
   "metadata": {},
   "outputs": [],
   "source": [
    "!pip install langchain -q"
   ]
  },
  {
   "cell_type": "code",
   "execution_count": null,
   "id": "c0b4ec7a",
   "metadata": {},
   "outputs": [],
   "source": [
    "!pip install -U langchain-community -q"
   ]
  },
  {
   "cell_type": "code",
   "execution_count": null,
   "id": "5327390f",
   "metadata": {},
   "outputs": [],
   "source": [
    "!pip install sentence_transformers -q"
   ]
  },
  {
   "cell_type": "code",
   "execution_count": null,
   "id": "65c5f9bd",
   "metadata": {},
   "outputs": [],
   "source": [
    "!pip install chromadb[sqlite]==0.4.22 -q"
   ]
  },
  {
   "cell_type": "code",
   "execution_count": null,
   "id": "952cb5e6",
   "metadata": {},
   "outputs": [],
   "source": [
    "!pip install -q streamlit pandas python-dotenv langchain-google-genai pytesseract pillow pypdf langchain-huggingface\n"
   ]
  },
  {
   "cell_type": "code",
   "execution_count": null,
   "id": "02128149",
   "metadata": {},
   "outputs": [],
   "source": [
    "import os\n",
    "import pytesseract\n",
    "from PIL import Image\n",
    "import pandas as pd\n",
    "import streamlit as st\n",
    "from dotenv import load_dotenv\n",
    "from langchain.document_loaders import PyPDFLoader, TextLoader, CSVLoader\n",
    "from langchain.text_splitter import RecursiveCharacterTextSplitter, MarkdownHeaderTextSplitter\n",
    "from langchain_community.embeddings import (HuggingFaceEmbeddings, JinaEmbeddings)\n",
    "from langchain_google_genai import ChatGoogleGenerativeAI\n",
    "from langchain.vectorstores import Chroma\n",
    "from langchain.chat_models import ChatOpenAI\n",
    "from langchain.chains import RetrievalQA\n",
    "\n"
   ]
  },
  {
   "cell_type": "code",
   "execution_count": null,
   "id": "72a25bae",
   "metadata": {},
   "outputs": [],
   "source": [
    "# Load environment variables and Load API keys ------------------------------------------\n",
    "load_dotenv()\n",
    "GEMINI_API_KEY = os.getenv(\"GEMINI_API_KEY\")\n",
    "if not GEMINI_API_KEY:\n",
    "    raise ValueError(\n",
    "        \"GEMINI_API_KEY not found in environment variables. Please check your .env file.\"\n",
    "    )"
   ]
  },
  {
   "cell_type": "code",
   "execution_count": null,
   "id": "927e6350",
   "metadata": {},
   "outputs": [],
   "source": [
    "# Streamlit UI Setup ---------------------------------------------------------------------------\n",
    "st.set_page_config(page_title=\"RAG Chatbot\", page_icon=\"🏦\", layout=\"centered\")\n",
    "st.title(\"💬 RAG Chatbot with ChromaDB\")\n",
    "st.header(\"LoanBot - Learn about Bank Loan Policy\")\n",
    "\n",
    "# Initialize session state for chat history\n",
    "if \"messages\" not in st.session_state:\n",
    "    st.session_state.messages = []\n"
   ]
  },
  {
   "cell_type": "code",
   "execution_count": null,
   "id": "5b89f9cd",
   "metadata": {},
   "outputs": [],
   "source": [
    "# Load Markdown data\n",
    "with open(\"Data/RBI-Policies.md\", \"r\", encoding=\"utf-8\") as file:\n",
    "    markdown_document = file.read() \n",
    "markdown_document"
   ]
  },
  {
   "cell_type": "code",
   "execution_count": null,
   "id": "315c24ef",
   "metadata": {},
   "outputs": [],
   "source": [
    "# Chunk the data ------------------------\n",
    "headers_to_split_on = [\n",
    "    (\"#\", \"Header 1\"),\n",
    "    # (\"##\", \"Header 2\"),\n",
    "    # (\"###\", \"Header 3\"),\n",
    "]\n",
    "\n",
    "markdown_splitter = MarkdownHeaderTextSplitter(headers_to_split_on, strip_headers = False)\n",
    "md_header_splits = markdown_splitter.split_text(markdown_document)\n",
    "md_header_splits\n"
   ]
  },
  {
   "cell_type": "code",
   "execution_count": null,
   "id": "900bfbb8",
   "metadata": {},
   "outputs": [],
   "source": [
    "sentences = []\n",
    "for i in range(len(md_header_splits)):\n",
    "    sentences.append(md_header_splits[i].page_content)"
   ]
  },
  {
   "cell_type": "markdown",
   "id": "e38c529a",
   "metadata": {},
   "source": [
    "#------------------- Embedding with Jina --------------- \n",
    "embeddings = JinaEmbeddings(\n",
    "    jina_api_key=JINA_API_KEY, model_name=\"jina-embeddings-v2-base-en\"\n",
    ")"
   ]
  },
  {
   "cell_type": "code",
   "execution_count": null,
   "id": "08611864",
   "metadata": {},
   "outputs": [],
   "source": [
    "# ---------------------- Embeddings with HuggingFace----------------\n",
    "\n",
    "from langchain_huggingface import HuggingFaceEmbeddings\n",
    "\n",
    "embeddings = HuggingFaceEmbeddings(model_name=\"sentence-transformers/all-MiniLM-L6-v2\")"
   ]
  },
  {
   "cell_type": "code",
   "execution_count": null,
   "id": "716a4300",
   "metadata": {},
   "outputs": [],
   "source": [
    "# --------------- Testing the EMbeddings ---------------\n",
    "text = \"This is a test document.\"\n",
    "\n",
    "query_result = embeddings.embed_query(text)\n",
    "query_result[0]"
   ]
  },
  {
   "cell_type": "code",
   "execution_count": null,
   "id": "a7eaabc6",
   "metadata": {},
   "outputs": [],
   "source": [
    "llm = ChatGoogleGenerativeAI(\n",
    "    model=\"gemini-flash-lite-latest\", google_api_key=GEMINI_API_KEY, temperature=0.7\n",
    ")"
   ]
  },
  {
   "cell_type": "code",
   "execution_count": null,
   "id": "bb9d6697",
   "metadata": {},
   "outputs": [],
   "source": [
    "# DEFINING THE CHROMA DB VECTOR STORE ----------------------------------------------------------------\n",
    "vectorstore = Chroma.from_documents(\n",
    "    md_header_splits, embeddings, persist_directory=\"./chroma-db\"\n",
    ")\n",
    "vectorstore.persist()\n"
   ]
  },
  {
   "cell_type": "code",
   "execution_count": null,
   "id": "7caa121d",
   "metadata": {},
   "outputs": [],
   "source": [
    "# QUERYING GEMINI LLM VIA RAG QA CHAIN --------------------------------------------------------------\n",
    "qa_chain = RetrievalQA.from_chain_type(\n",
    "    llm=llm, retriever=vectorstore.as_retriever(search_kwargs={\"k\": 5})\n",
    ")\n",
    "query = \"What are the eligibility criteria in the Loan Advisory Policy?\"\n",
    "response = qa_chain.invoke({\"query\": query})\n",
    "print(response[\"result\"])"
   ]
  },
  {
   "cell_type": "code",
   "execution_count": null,
   "id": "7cff5afe",
   "metadata": {},
   "outputs": [],
   "source": [
    "# LOADING STREAMLIT UI ---------------------------------------------------------------------------------------\n",
    "\n",
    "with st.form(\"chat_form\", clear_on_submit=True):\n",
    "    user_input = st.text_input(\"Ask me anything:\", \"\")\n",
    "    submit = st.form_submit_button(\"Send\")\n",
    "\n",
    "if submit and user_input:\n",
    "    # Add user message to chat history\n",
    "    st.session_state.messages.append({\"role\": \"user\", \"content\": user_input})\n",
    "\n",
    "    # Get response from RAG QA\n",
    "    with st.spinner(\"Thinking...\"):\n",
    "        result = qa_chain.run(user_input)  # changes qa_chain\n",
    "\n",
    "    # Add bot response to chat history\n",
    "    st.session_state.messages.append({\"role\": \"assistant\", \"content\": result})\n",
    "\n",
    "\n",
    "for message in st.session_state.messages:\n",
    "    if message[\"role\"] == \"user\":\n",
    "        st.markdown(f\"**You:** {message['content']}\")\n",
    "    else:\n",
    "        st.markdown(f\"**Bot:** {message['content']}\")\n",
    "\n",
    "\n",
    "# Run the app\n",
    "# if __name__ == \"__main__\":\n",
    "#     st.run()\n"
   ]
  },
  {
   "cell_type": "code",
   "execution_count": null,
   "id": "01fde8bd",
   "metadata": {},
   "outputs": [],
   "source": []
  }
 ],
 "metadata": {
  "kernelspec": {
   "display_name": "loanenv",
   "language": "python",
   "name": "python3"
  },
  "language_info": {
   "codemirror_mode": {
    "name": "ipython",
    "version": 3
   },
   "file_extension": ".py",
   "mimetype": "text/x-python",
   "name": "python",
   "nbconvert_exporter": "python",
   "pygments_lexer": "ipython3",
   "version": "3.11.13"
  }
 },
 "nbformat": 4,
 "nbformat_minor": 5
}
